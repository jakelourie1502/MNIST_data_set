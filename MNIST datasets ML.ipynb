{
 "cells": [
  {
   "cell_type": "code",
   "execution_count": null,
   "metadata": {},
   "outputs": [],
   "source": [
    "!curl https://sdk.cloud.google.com | bash #download gsutil which seems to be a data transfer tol. the pipe signal moves it over to bash\n",
    "!mkdir train2017 #makes a new directory\n",
    "!gsutil -m rsync gs://images.cocodataset.org/train2017 train2017 #runs gsutil and gives it the directory to store."
   ]
  },
  {
   "cell_type": "markdown",
   "metadata": {},
   "source": [
    "# Onto the Mnis "
   ]
  },
  {
   "cell_type": "code",
   "execution_count": 1,
   "metadata": {},
   "outputs": [],
   "source": [
    "import tensorflow as tf"
   ]
  },
  {
   "cell_type": "code",
   "execution_count": 3,
   "metadata": {},
   "outputs": [
    {
     "name": "stdout",
     "output_type": "stream",
     "text": [
      "Downloading data from https://storage.googleapis.com/tensorflow/tf-keras-datasets/mnist.npz\n",
      "11493376/11490434 [==============================] - 3s 0us/step\n"
     ]
    }
   ],
   "source": [
    "mnist = tf.keras.datasets.mnist\n",
    "\n",
    "(x_train, y_train), (x_test, y_test) = mnist.load_data()\n",
    "x_train, x_test = x_train / 255.0, x_test / 255.0"
   ]
  },
  {
   "cell_type": "code",
   "execution_count": 71,
   "metadata": {},
   "outputs": [
    {
     "data": {
      "text/plain": [
       "(10000, 784)"
      ]
     },
     "execution_count": 71,
     "metadata": {},
     "output_type": "execute_result"
    }
   ],
   "source": [
    "x_test.shape"
   ]
  },
  {
   "cell_type": "code",
   "execution_count": 72,
   "metadata": {},
   "outputs": [
    {
     "data": {
      "text/plain": [
       "(60000,)"
      ]
     },
     "execution_count": 72,
     "metadata": {},
     "output_type": "execute_result"
    }
   ],
   "source": [
    "y_train.shape"
   ]
  },
  {
   "cell_type": "code",
   "execution_count": 73,
   "metadata": {},
   "outputs": [],
   "source": [
    "x_train = x_train.reshape(-1,28*28)"
   ]
  },
  {
   "cell_type": "code",
   "execution_count": 74,
   "metadata": {},
   "outputs": [
    {
     "data": {
      "text/plain": [
       "(60000, 784)"
      ]
     },
     "execution_count": 74,
     "metadata": {},
     "output_type": "execute_result"
    }
   ],
   "source": [
    "x_train.shape"
   ]
  },
  {
   "cell_type": "code",
   "execution_count": 75,
   "metadata": {},
   "outputs": [],
   "source": [
    "x_test = x_test.reshape(-1,28*28)"
   ]
  },
  {
   "cell_type": "code",
   "execution_count": 76,
   "metadata": {},
   "outputs": [
    {
     "data": {
      "text/plain": [
       "(10000, 784)"
      ]
     },
     "execution_count": 76,
     "metadata": {},
     "output_type": "execute_result"
    }
   ],
   "source": [
    "x_test.shape"
   ]
  },
  {
   "cell_type": "code",
   "execution_count": 77,
   "metadata": {},
   "outputs": [
    {
     "data": {
      "text/plain": [
       "array([5, 0, 4, ..., 5, 6, 8], dtype=uint8)"
      ]
     },
     "execution_count": 77,
     "metadata": {},
     "output_type": "execute_result"
    }
   ],
   "source": [
    "y_train"
   ]
  },
  {
   "cell_type": "code",
   "execution_count": 78,
   "metadata": {},
   "outputs": [],
   "source": [
    "from sklearn.preprocessing import OneHotEncoder"
   ]
  },
  {
   "cell_type": "code",
   "execution_count": 79,
   "metadata": {},
   "outputs": [],
   "source": [
    "encoder = OneHotEncoder()"
   ]
  },
  {
   "cell_type": "code",
   "execution_count": 80,
   "metadata": {},
   "outputs": [],
   "source": [
    "y_train_one_hot = encoder.fit_transform(y_train.reshape(-1,1)).toarray()\n",
    "y_test_one_hot = encoder.transform(y_test.reshape(-1, 1)).toarray()"
   ]
  },
  {
   "cell_type": "code",
   "execution_count": 96,
   "metadata": {},
   "outputs": [
    {
     "data": {
      "text/plain": [
       "0.5882352941176471"
      ]
     },
     "execution_count": 96,
     "metadata": {},
     "output_type": "execute_result"
    }
   ],
   "source": [
    "x_test[3][125]"
   ]
  },
  {
   "cell_type": "code",
   "execution_count": 47,
   "metadata": {},
   "outputs": [
    {
     "data": {
      "text/plain": [
       "array([[0., 0., 0., ..., 1., 0., 0.],\n",
       "       [0., 0., 1., ..., 0., 0., 0.],\n",
       "       [0., 1., 0., ..., 0., 0., 0.],\n",
       "       ...,\n",
       "       [0., 0., 0., ..., 0., 0., 0.],\n",
       "       [0., 0., 0., ..., 0., 0., 0.],\n",
       "       [0., 0., 0., ..., 0., 0., 0.]])"
      ]
     },
     "execution_count": 47,
     "metadata": {},
     "output_type": "execute_result"
    }
   ],
   "source": [
    "y_test_one_hot"
   ]
  },
  {
   "cell_type": "code",
   "execution_count": 178,
   "metadata": {},
   "outputs": [],
   "source": [
    "model = tf.keras.Sequential() #creates a sequential model"
   ]
  },
  {
   "cell_type": "code",
   "execution_count": 179,
   "metadata": {},
   "outputs": [
    {
     "data": {
      "text/plain": [
       "tensorflow.python.keras.engine.sequential.Sequential"
      ]
     },
     "execution_count": 179,
     "metadata": {},
     "output_type": "execute_result"
    }
   ],
   "source": [
    "type(model)"
   ]
  },
  {
   "cell_type": "code",
   "execution_count": 180,
   "metadata": {},
   "outputs": [
    {
     "data": {
      "text/plain": [
       "<tensorflow.python.keras.regularizers.L1 at 0x7fdd732bb8b0>"
      ]
     },
     "execution_count": 180,
     "metadata": {},
     "output_type": "execute_result"
    }
   ],
   "source": [
    "##adding regularisation \n",
    "tf.keras.regularizers.l1(l1=0.01) #this creates l1"
   ]
  },
  {
   "cell_type": "code",
   "execution_count": 181,
   "metadata": {},
   "outputs": [],
   "source": [
    "model.add(tf.keras.layers.Dense(50, activation='relu')) #,kernel_regularizer='l1'))\n",
    "model.add(tf.keras.layers.Dense(50, activation='relu'))\n",
    "#model.add(tf.keras.layers.Dense(20, activation='relu'))\n",
    "model.add(tf.keras.layers.Dropout(rate=0.5))"
   ]
  },
  {
   "cell_type": "code",
   "execution_count": 182,
   "metadata": {},
   "outputs": [],
   "source": [
    "model.add(tf.keras.layers.Dense(10, activation='softmax'))"
   ]
  },
  {
   "cell_type": "code",
   "execution_count": 183,
   "metadata": {},
   "outputs": [],
   "source": [
    "model.compile(loss='categorical_crossentropy', metrics=['accuracy'])"
   ]
  },
  {
   "cell_type": "code",
   "execution_count": 184,
   "metadata": {},
   "outputs": [
    {
     "name": "stdout",
     "output_type": "stream",
     "text": [
      "Epoch 1/50\n",
      "6/6 [==============================] - 1s 64ms/step - loss: 2.1700 - accuracy: 0.2208 - val_loss: 1.5987 - val_accuracy: 0.5910\n",
      "Epoch 2/50\n",
      "6/6 [==============================] - 0s 36ms/step - loss: 1.6604 - accuracy: 0.4684 - val_loss: 1.2003 - val_accuracy: 0.7693\n",
      "Epoch 3/50\n",
      "6/6 [==============================] - 0s 40ms/step - loss: 1.3619 - accuracy: 0.5858 - val_loss: 0.9680 - val_accuracy: 0.8178\n",
      "Epoch 4/50\n",
      "6/6 [==============================] - 0s 37ms/step - loss: 1.1776 - accuracy: 0.6484 - val_loss: 0.7883 - val_accuracy: 0.8607\n",
      "Epoch 5/50\n",
      "6/6 [==============================] - 0s 38ms/step - loss: 1.0431 - accuracy: 0.6894 - val_loss: 0.6635 - val_accuracy: 0.8720\n",
      "Epoch 6/50\n",
      "6/6 [==============================] - 0s 38ms/step - loss: 0.9356 - accuracy: 0.7213 - val_loss: 0.5702 - val_accuracy: 0.8860\n",
      "Epoch 7/50\n",
      "6/6 [==============================] - 0s 37ms/step - loss: 0.8506 - accuracy: 0.7451 - val_loss: 0.4997 - val_accuracy: 0.8962\n",
      "Epoch 8/50\n",
      "6/6 [==============================] - 0s 40ms/step - loss: 0.7837 - accuracy: 0.7659 - val_loss: 0.4523 - val_accuracy: 0.9023\n",
      "Epoch 9/50\n",
      "6/6 [==============================] - 0s 38ms/step - loss: 0.7390 - accuracy: 0.7804 - val_loss: 0.4129 - val_accuracy: 0.9015\n",
      "Epoch 10/50\n",
      "6/6 [==============================] - 0s 38ms/step - loss: 0.6846 - accuracy: 0.7964 - val_loss: 0.3823 - val_accuracy: 0.9078\n",
      "Epoch 11/50\n",
      "6/6 [==============================] - 0s 40ms/step - loss: 0.6467 - accuracy: 0.8115 - val_loss: 0.3509 - val_accuracy: 0.9128\n",
      "Epoch 12/50\n",
      "6/6 [==============================] - 0s 37ms/step - loss: 0.6200 - accuracy: 0.8174 - val_loss: 0.3259 - val_accuracy: 0.9212\n",
      "Epoch 13/50\n",
      "6/6 [==============================] - 0s 38ms/step - loss: 0.5830 - accuracy: 0.8305 - val_loss: 0.3035 - val_accuracy: 0.9253\n",
      "Epoch 14/50\n",
      "6/6 [==============================] - 0s 37ms/step - loss: 0.5564 - accuracy: 0.8370 - val_loss: 0.3020 - val_accuracy: 0.9178\n",
      "Epoch 15/50\n",
      "6/6 [==============================] - 0s 39ms/step - loss: 0.5436 - accuracy: 0.8430 - val_loss: 0.2758 - val_accuracy: 0.9322\n",
      "Epoch 16/50\n",
      "6/6 [==============================] - 0s 38ms/step - loss: 0.5091 - accuracy: 0.8543 - val_loss: 0.2602 - val_accuracy: 0.9343\n",
      "Epoch 17/50\n",
      "6/6 [==============================] - 0s 36ms/step - loss: 0.4940 - accuracy: 0.8576 - val_loss: 0.2543 - val_accuracy: 0.9355\n",
      "Epoch 18/50\n",
      "6/6 [==============================] - 0s 37ms/step - loss: 0.4726 - accuracy: 0.8666 - val_loss: 0.2423 - val_accuracy: 0.9390\n",
      "Epoch 19/50\n",
      "6/6 [==============================] - 0s 36ms/step - loss: 0.4586 - accuracy: 0.8689 - val_loss: 0.2330 - val_accuracy: 0.9363\n",
      "Epoch 20/50\n",
      "6/6 [==============================] - 0s 36ms/step - loss: 0.4470 - accuracy: 0.8729 - val_loss: 0.2288 - val_accuracy: 0.9365\n",
      "Epoch 21/50\n",
      "6/6 [==============================] - 0s 37ms/step - loss: 0.4351 - accuracy: 0.8755 - val_loss: 0.2216 - val_accuracy: 0.9378\n",
      "Epoch 22/50\n",
      "6/6 [==============================] - 0s 39ms/step - loss: 0.4189 - accuracy: 0.8836 - val_loss: 0.2128 - val_accuracy: 0.9437\n",
      "Epoch 23/50\n",
      "6/6 [==============================] - 0s 37ms/step - loss: 0.4045 - accuracy: 0.8865 - val_loss: 0.2032 - val_accuracy: 0.9448\n",
      "Epoch 24/50\n",
      "6/6 [==============================] - 0s 36ms/step - loss: 0.3927 - accuracy: 0.8882 - val_loss: 0.2106 - val_accuracy: 0.9432\n",
      "Epoch 25/50\n",
      "6/6 [==============================] - 0s 39ms/step - loss: 0.3874 - accuracy: 0.8907 - val_loss: 0.1961 - val_accuracy: 0.9465\n",
      "Epoch 26/50\n",
      "6/6 [==============================] - 0s 37ms/step - loss: 0.3777 - accuracy: 0.8948 - val_loss: 0.1905 - val_accuracy: 0.9460\n",
      "Epoch 27/50\n",
      "6/6 [==============================] - 0s 39ms/step - loss: 0.3675 - accuracy: 0.8972 - val_loss: 0.1893 - val_accuracy: 0.9465\n",
      "Epoch 28/50\n",
      "6/6 [==============================] - 0s 38ms/step - loss: 0.3633 - accuracy: 0.8997 - val_loss: 0.1858 - val_accuracy: 0.9483\n",
      "Epoch 29/50\n",
      "6/6 [==============================] - 0s 37ms/step - loss: 0.3572 - accuracy: 0.9007 - val_loss: 0.1794 - val_accuracy: 0.9498\n",
      "Epoch 30/50\n",
      "6/6 [==============================] - 0s 39ms/step - loss: 0.3415 - accuracy: 0.9059 - val_loss: 0.1740 - val_accuracy: 0.9512\n",
      "Epoch 31/50\n",
      "6/6 [==============================] - 0s 38ms/step - loss: 0.3332 - accuracy: 0.9088 - val_loss: 0.1725 - val_accuracy: 0.9527\n",
      "Epoch 32/50\n",
      "6/6 [==============================] - 0s 37ms/step - loss: 0.3337 - accuracy: 0.9068 - val_loss: 0.1676 - val_accuracy: 0.9538\n",
      "Epoch 33/50\n",
      "6/6 [==============================] - 0s 36ms/step - loss: 0.3231 - accuracy: 0.9106 - val_loss: 0.1663 - val_accuracy: 0.9552\n",
      "Epoch 34/50\n",
      "6/6 [==============================] - 0s 37ms/step - loss: 0.3215 - accuracy: 0.9083 - val_loss: 0.1671 - val_accuracy: 0.9538\n",
      "Epoch 35/50\n",
      "6/6 [==============================] - 0s 35ms/step - loss: 0.3152 - accuracy: 0.9115 - val_loss: 0.1593 - val_accuracy: 0.9567\n",
      "Epoch 36/50\n",
      "6/6 [==============================] - 0s 37ms/step - loss: 0.3101 - accuracy: 0.9150 - val_loss: 0.1600 - val_accuracy: 0.9565\n",
      "Epoch 37/50\n",
      "6/6 [==============================] - 0s 37ms/step - loss: 0.3014 - accuracy: 0.9163 - val_loss: 0.1544 - val_accuracy: 0.9573\n",
      "Epoch 38/50\n",
      "6/6 [==============================] - 0s 37ms/step - loss: 0.2896 - accuracy: 0.9195 - val_loss: 0.1538 - val_accuracy: 0.9562\n",
      "Epoch 39/50\n",
      "6/6 [==============================] - 0s 38ms/step - loss: 0.2930 - accuracy: 0.9171 - val_loss: 0.1500 - val_accuracy: 0.9582\n",
      "Epoch 40/50\n",
      "6/6 [==============================] - 0s 35ms/step - loss: 0.2850 - accuracy: 0.9221 - val_loss: 0.1475 - val_accuracy: 0.9592\n",
      "Epoch 41/50\n",
      "6/6 [==============================] - 0s 37ms/step - loss: 0.2810 - accuracy: 0.9212 - val_loss: 0.1453 - val_accuracy: 0.9602\n",
      "Epoch 42/50\n",
      "6/6 [==============================] - 0s 38ms/step - loss: 0.2730 - accuracy: 0.9234 - val_loss: 0.1463 - val_accuracy: 0.9590\n",
      "Epoch 43/50\n",
      "6/6 [==============================] - 0s 38ms/step - loss: 0.2733 - accuracy: 0.9237 - val_loss: 0.1490 - val_accuracy: 0.9593\n",
      "Epoch 44/50\n",
      "6/6 [==============================] - 0s 39ms/step - loss: 0.2686 - accuracy: 0.9238 - val_loss: 0.1418 - val_accuracy: 0.9595\n",
      "Epoch 45/50\n",
      "6/6 [==============================] - 0s 37ms/step - loss: 0.2667 - accuracy: 0.9257 - val_loss: 0.1386 - val_accuracy: 0.9610\n",
      "Epoch 46/50\n",
      "6/6 [==============================] - 0s 38ms/step - loss: 0.2620 - accuracy: 0.9284 - val_loss: 0.1453 - val_accuracy: 0.9588\n",
      "Epoch 47/50\n",
      "6/6 [==============================] - 0s 38ms/step - loss: 0.2601 - accuracy: 0.9283 - val_loss: 0.1353 - val_accuracy: 0.9617\n",
      "Epoch 48/50\n",
      "6/6 [==============================] - 0s 37ms/step - loss: 0.2508 - accuracy: 0.9309 - val_loss: 0.1350 - val_accuracy: 0.9610\n",
      "Epoch 49/50\n",
      "6/6 [==============================] - 0s 36ms/step - loss: 0.2462 - accuracy: 0.9321 - val_loss: 0.1385 - val_accuracy: 0.9598\n",
      "Epoch 50/50\n",
      "6/6 [==============================] - 0s 32ms/step - loss: 0.2469 - accuracy: 0.9310 - val_loss: 0.1333 - val_accuracy: 0.9623\n"
     ]
    },
    {
     "data": {
      "text/plain": [
       "<tensorflow.python.keras.callbacks.History at 0x7fdd767e9e20>"
      ]
     },
     "execution_count": 184,
     "metadata": {},
     "output_type": "execute_result"
    }
   ],
   "source": [
    "model.fit(x_train, y_train_one_hot, batch_size=10000, validation_split=0.1, epochs=50)"
   ]
  },
  {
   "cell_type": "code",
   "execution_count": 185,
   "metadata": {},
   "outputs": [],
   "source": [
    "y_test_pred = model.predict_classes(x_test)"
   ]
  },
  {
   "cell_type": "code",
   "execution_count": 186,
   "metadata": {},
   "outputs": [
    {
     "data": {
      "text/plain": [
       "array([7, 2, 1, ..., 4, 5, 6])"
      ]
     },
     "execution_count": 186,
     "metadata": {},
     "output_type": "execute_result"
    }
   ],
   "source": [
    "y_test_pred"
   ]
  },
  {
   "cell_type": "code",
   "execution_count": 187,
   "metadata": {},
   "outputs": [],
   "source": [
    "from sklearn.metrics import accuracy_score"
   ]
  },
  {
   "cell_type": "code",
   "execution_count": 188,
   "metadata": {},
   "outputs": [
    {
     "data": {
      "text/plain": [
       "0.9523"
      ]
     },
     "execution_count": 188,
     "metadata": {},
     "output_type": "execute_result"
    }
   ],
   "source": [
    "accuracy_score(y_test, y_test_pred)"
   ]
  },
  {
   "cell_type": "code",
   "execution_count": 165,
   "metadata": {},
   "outputs": [],
   "source": [
    "from sklearn.metrics import confusion_matrix\n",
    "import seaborn as sns"
   ]
  },
  {
   "cell_type": "code",
   "execution_count": 166,
   "metadata": {},
   "outputs": [
    {
     "data": {
      "text/plain": [
       "<AxesSubplot:>"
      ]
     },
     "execution_count": 166,
     "metadata": {},
     "output_type": "execute_result"
    },
    {
     "data": {
      "image/png": "[encoded data removed]",
      "text/plain": [
       "<Figure size 432x288 with 2 Axes>"
      ]
     },
     "metadata": {
      "needs_background": "light"
     },
     "output_type": "display_data"
    }
   ],
   "source": [
    "sns.heatmap(confusion_matrix(y_test, y_test_pred),annot=True)"
   ]
  },
  {
   "cell_type": "code",
   "execution_count": 122,
   "metadata": {},
   "outputs": [
    {
     "data": {
      "text/plain": [
       "[array([[ 0.04875831, -0.0143535 , -0.03607001, ...,  0.0522809 ,\n",
       "          0.055237  ,  0.02945469],\n",
       "        [ 0.0705399 , -0.00484943, -0.03258931, ...,  0.06202694,\n",
       "         -0.05409684,  0.05295039],\n",
       "        [-0.05288226, -0.0556281 ,  0.08084149, ...,  0.02181963,\n",
       "          0.06185616,  0.06849303],\n",
       "        ...,\n",
       "        [ 0.0403055 ,  0.02560815,  0.05385811, ...,  0.05281996,\n",
       "          0.01871704,  0.04437389],\n",
       "        [-0.06390218, -0.02750628, -0.06565853, ..., -0.05375245,\n",
       "         -0.03582022,  0.05032288],\n",
       "        [ 0.045022  , -0.08345026,  0.01743128, ..., -0.07597293,\n",
       "          0.05687242, -0.03792116]], dtype=float32),\n",
       " array([ 0.00834405,  0.01081906, -0.03989862, -0.00686374, -0.00875899,\n",
       "         0.0408826 ,  0.00474958,  0.04111366,  0.07217921,  0.09057979,\n",
       "        -0.01716369,  0.02349797,  0.03137204,  0.00644889,  0.040489  ,\n",
       "         0.01659723,  0.01536849,  0.00469056,  0.04211321,  0.06980515,\n",
       "         0.02452915,  0.02697832,  0.0546126 ,  0.03011558,  0.00562865,\n",
       "        -0.01957511,  0.04391721,  0.05447505,  0.0569513 ,  0.03891703,\n",
       "         0.0713284 ,  0.03805833,  0.01226678,  0.05188062, -0.00857329,\n",
       "         0.06333144, -0.02621979,  0.07623757,  0.04358134, -0.03675279,\n",
       "         0.04612377,  0.03803018, -0.00078968,  0.07489338,  0.01847879,\n",
       "        -0.04096118, -0.0064628 ,  0.01243284,  0.07638247,  0.00526473],\n",
       "       dtype=float32),\n",
       " array([[-0.21770577,  0.02097459, -0.20007594, ..., -0.07635164,\n",
       "          0.02319525, -0.03345259],\n",
       "        [ 0.3134843 ,  0.00873311,  0.20782247, ...,  0.04143274,\n",
       "          0.32277137,  0.07760355],\n",
       "        [-0.05388579, -0.39742076, -0.04368461, ...,  0.00276155,\n",
       "         -0.14790311,  0.215427  ],\n",
       "        ...,\n",
       "        [ 0.01504006, -0.12082752, -0.01656478, ..., -0.2387609 ,\n",
       "         -0.01666578, -0.015093  ],\n",
       "        [ 0.2057769 , -0.19815013,  0.01973023, ...,  0.05005407,\n",
       "         -0.07149874, -0.19423966],\n",
       "        [ 0.32738423, -0.13392892,  0.33344692, ...,  0.1621715 ,\n",
       "         -0.15547012,  0.23797405]], dtype=float32),\n",
       " array([ 0.05017101,  0.02329394,  0.01613247,  0.06030599,  0.02039951,\n",
       "         0.06837459,  0.04654599,  0.03104563, -0.02805306,  0.06863162,\n",
       "         0.06981615,  0.02154594,  0.02260038,  0.0645829 , -0.01679064,\n",
       "         0.0255625 , -0.00386974,  0.03019311, -0.01554517,  0.08492108,\n",
       "         0.08698998,  0.02427598, -0.02009225, -0.00706398,  0.04819854,\n",
       "         0.0462748 , -0.03893436,  0.00664127,  0.04332222,  0.03336762],\n",
       "       dtype=float32),\n",
       " array([[ 2.85594642e-01,  1.56943023e-01, -4.23901498e-01,\n",
       "         -3.95085156e-01, -1.02131285e-01, -3.82846624e-01,\n",
       "          3.67179438e-02,  2.72834718e-01, -1.79423958e-01,\n",
       "          1.96588919e-01,  5.33411205e-02, -1.77624762e-01,\n",
       "          1.66121140e-01, -3.28193814e-01, -1.35595068e-01,\n",
       "          3.73533905e-01, -3.10422610e-02,  4.12809193e-01,\n",
       "         -2.70503551e-01, -2.78113842e-01],\n",
       "        [-2.33785227e-01, -3.10524553e-02,  2.13929713e-01,\n",
       "         -3.05204391e-02,  1.43674940e-01, -5.96222142e-03,\n",
       "          2.10193440e-01, -2.44287431e-01, -1.54200653e-02,\n",
       "         -4.13805097e-01, -2.91674703e-01, -1.96778342e-01,\n",
       "          2.89086968e-01,  2.17443049e-01,  2.50918120e-01,\n",
       "          1.75523177e-01,  4.04314846e-01,  3.57041508e-01,\n",
       "          2.28341237e-01, -1.31505579e-01],\n",
       "        [-4.18627374e-02,  5.32176979e-02, -4.79216993e-01,\n",
       "         -3.80271316e-01,  2.68924832e-01, -4.77802455e-01,\n",
       "          1.53201088e-01, -3.55608195e-01, -1.77367315e-01,\n",
       "          2.87023783e-01, -2.56649852e-02,  1.93560928e-01,\n",
       "         -9.43908915e-02,  3.17961067e-01, -8.43887627e-02,\n",
       "         -1.64063781e-01, -1.56266108e-01,  3.41701031e-01,\n",
       "         -8.62286761e-02, -4.34719801e-01],\n",
       "        [ 1.75512075e-01,  5.80791496e-02,  1.18410587e-01,\n",
       "         -9.52162594e-02, -3.72504801e-01,  3.60025801e-02,\n",
       "         -2.01502964e-01, -2.45749541e-02,  3.22220325e-01,\n",
       "          1.19099148e-01,  4.00776193e-02,  3.68165582e-01,\n",
       "         -2.34296903e-01, -2.06523955e-01,  2.30746306e-02,\n",
       "         -5.13685718e-02, -9.94318798e-02,  2.40719572e-01,\n",
       "         -7.55354241e-02, -2.43681699e-01],\n",
       "        [ 3.59816402e-01,  2.57660091e-01, -1.56118451e-02,\n",
       "         -3.84999484e-01, -5.22094518e-02, -1.43678278e-01,\n",
       "          2.77407289e-01, -3.55419889e-02,  2.75096178e-01,\n",
       "          3.67414095e-02,  3.10102105e-02, -2.15641603e-01,\n",
       "         -3.51124913e-01,  3.96955460e-01,  3.94133888e-02,\n",
       "          3.63436520e-01, -3.58550102e-01, -1.02724366e-01,\n",
       "         -1.62325725e-01, -3.42324704e-01],\n",
       "        [-3.31953585e-01, -3.14329505e-01, -2.38970548e-01,\n",
       "         -3.04644763e-01,  2.45533675e-01,  2.95633852e-01,\n",
       "         -1.97840370e-02,  3.69835079e-01, -1.55038118e-01,\n",
       "          1.86889861e-02,  1.90647870e-01,  4.94503558e-01,\n",
       "          4.04701829e-01, -1.89948648e-01, -2.73663878e-01,\n",
       "         -1.94633618e-01,  1.37710184e-01, -1.38799444e-01,\n",
       "         -9.71665904e-02, -1.66289821e-01],\n",
       "        [-2.88760632e-01, -1.79842517e-01,  2.65046269e-01,\n",
       "          2.54062712e-01, -2.26696938e-01,  1.22167163e-01,\n",
       "         -4.14695084e-01,  4.25782651e-02, -3.34543884e-01,\n",
       "         -4.07562286e-01,  2.66075075e-01,  2.79722393e-01,\n",
       "          1.63979717e-02,  1.95258394e-01, -9.71121415e-02,\n",
       "         -7.18591660e-02, -3.14923674e-01, -1.15439951e-01,\n",
       "         -5.26922978e-02,  3.60300452e-01],\n",
       "        [ 2.49629140e-01,  1.12365738e-01,  3.45347404e-01,\n",
       "          2.71232814e-01,  3.67598861e-01, -8.12006444e-02,\n",
       "         -3.13460052e-01, -5.16863942e-01, -1.33376062e-01,\n",
       "         -1.09836332e-01,  1.46909907e-01, -2.01465666e-01,\n",
       "         -5.11450432e-02,  1.18970260e-01,  2.73479402e-01,\n",
       "         -2.25761220e-01, -6.78257365e-03,  3.21918577e-01,\n",
       "          2.05498278e-01,  1.10707402e-01],\n",
       "        [ 8.70941430e-02,  2.01105893e-01,  1.98635191e-01,\n",
       "          1.05014481e-01,  2.62612432e-01,  1.47664875e-01,\n",
       "          3.38580608e-01, -4.30070311e-02,  2.11742856e-02,\n",
       "         -2.33435720e-01,  3.40504885e-01,  3.48188728e-01,\n",
       "         -1.50085673e-01, -2.87430912e-01, -2.27818966e-01,\n",
       "         -6.07249103e-02, -2.74898946e-01, -2.69363970e-01,\n",
       "         -3.26331913e-01,  3.75828594e-01],\n",
       "        [-1.66714877e-01,  5.52870482e-02,  9.76068527e-02,\n",
       "          1.46126136e-01,  1.71536639e-01, -2.11534470e-01,\n",
       "          1.67863473e-01,  2.93508112e-01,  4.36544001e-01,\n",
       "          1.77929074e-01, -6.37835683e-03,  6.78726882e-02,\n",
       "          3.67781073e-01,  3.27809364e-01, -1.99276060e-01,\n",
       "         -4.57176626e-01,  4.59192842e-01,  1.75532252e-01,\n",
       "          4.86896455e-01,  1.77458435e-01],\n",
       "        [-2.44953632e-02, -1.52211428e-01, -2.11954892e-01,\n",
       "          2.82019496e-01,  2.49702975e-01, -5.50347641e-02,\n",
       "          1.70818903e-02,  1.29888296e-01,  7.96048786e-04,\n",
       "          3.20161045e-01, -8.68053064e-02, -2.33908862e-01,\n",
       "          1.52936354e-01,  1.34335980e-01,  1.49577484e-01,\n",
       "          4.97431122e-03,  6.80971742e-02,  1.57732680e-01,\n",
       "          3.88521403e-01, -4.63316590e-02],\n",
       "        [-4.06728625e-01,  8.38940442e-02,  2.21349001e-01,\n",
       "         -1.57655403e-01, -1.46242559e-01, -3.91615480e-02,\n",
       "          1.73884258e-01,  2.64014781e-01,  2.91606367e-01,\n",
       "          8.36232081e-02,  2.89204746e-01, -2.83798546e-01,\n",
       "         -8.62319693e-02, -2.49526456e-01, -6.77773654e-02,\n",
       "         -7.73609430e-02, -7.47583210e-02,  3.07079077e-01,\n",
       "          2.22906675e-02, -2.76519060e-01],\n",
       "        [ 1.98902205e-01,  2.22786367e-02,  2.99914002e-01,\n",
       "         -2.26798683e-01, -8.44990388e-02,  9.25451219e-02,\n",
       "          3.57639194e-01,  9.70564932e-02, -2.31151626e-01,\n",
       "         -2.52741333e-02, -3.63176269e-03, -4.35006261e-01,\n",
       "          3.48604918e-02, -1.19718812e-01, -1.50560752e-01,\n",
       "          4.14231390e-01,  1.87907010e-01,  2.24400848e-01,\n",
       "         -1.79603975e-02,  3.23242724e-01],\n",
       "        [ 1.84770539e-01,  1.03430986e-01,  1.78354666e-01,\n",
       "          4.09949034e-01, -2.07669456e-02, -2.99337059e-01,\n",
       "          3.02916411e-02, -4.93596017e-01, -9.41819027e-02,\n",
       "          3.09510410e-01,  1.22326516e-01,  2.99800605e-01,\n",
       "         -2.56110042e-01,  3.34026754e-01, -1.62535217e-02,\n",
       "          5.90913221e-02, -2.56768465e-01, -1.41689196e-01,\n",
       "          5.51792793e-02, -3.60812455e-01],\n",
       "        [ 2.70279050e-01, -8.08394551e-02, -2.65376359e-01,\n",
       "         -7.70606566e-03,  9.33508277e-02,  3.70081842e-01,\n",
       "         -3.10696959e-01, -1.37031049e-01, -3.09121996e-01,\n",
       "         -4.24753875e-02, -2.35348552e-01, -6.15335479e-02,\n",
       "         -7.00053275e-02, -6.31590784e-02, -2.47187600e-01,\n",
       "         -6.42047226e-02,  9.87724960e-02, -1.69657856e-01,\n",
       "         -1.23567745e-01,  3.00894946e-01],\n",
       "        [-3.85611244e-02,  7.62223005e-02,  2.98753470e-01,\n",
       "          7.94928074e-02,  5.09962916e-01, -1.96959585e-01,\n",
       "         -3.78260553e-01, -3.62610787e-01, -2.96018302e-01,\n",
       "         -2.42603174e-03,  3.14503238e-02,  5.57116373e-03,\n",
       "          2.02593386e-01,  3.67913753e-01, -4.24250603e-01,\n",
       "         -4.60901111e-02, -7.23077655e-02, -1.54883722e-02,\n",
       "          2.85770535e-01,  1.93535134e-01],\n",
       "        [-3.82916421e-01,  1.52261958e-01,  1.13564461e-01,\n",
       "         -1.98163837e-01, -2.07634941e-01, -3.37801099e-01,\n",
       "         -3.81217986e-01, -2.67942604e-02,  1.33056715e-01,\n",
       "         -2.47573346e-01,  4.97684479e-01, -4.23315704e-01,\n",
       "         -4.04263228e-01, -5.65426052e-01, -2.90830377e-02,\n",
       "          2.18924344e-01,  1.45252258e-01,  3.28071624e-01,\n",
       "         -2.07369372e-01, -4.37742472e-01],\n",
       "        [ 5.55304885e-02, -7.28519708e-02, -3.00583810e-01,\n",
       "          6.00199029e-02,  2.43021384e-01, -1.64037988e-01,\n",
       "          3.85568231e-01,  3.25707942e-01,  4.11566585e-01,\n",
       "          7.80717134e-02, -3.11269850e-01, -9.04972032e-02,\n",
       "         -2.49646395e-03,  1.83169514e-01,  3.89048010e-01,\n",
       "          1.25776321e-01,  3.70482594e-01, -1.40677974e-01,\n",
       "          3.56977582e-01, -2.51991183e-01],\n",
       "        [ 4.76153523e-01, -1.47340775e-01,  1.71031848e-01,\n",
       "         -4.22925085e-01,  4.68367606e-01,  2.56659359e-01,\n",
       "          5.82079031e-02, -5.42978823e-01,  1.13121709e-02,\n",
       "         -2.65786380e-01, -1.08761027e-01, -3.76992345e-01,\n",
       "          1.08696803e-01, -3.44139189e-02, -3.43003154e-01,\n",
       "         -2.75223125e-02, -1.03564814e-01, -2.07485273e-01,\n",
       "         -4.77955699e-01, -7.47655379e-03],\n",
       "        [-3.52751702e-01, -1.86746910e-01, -6.34890869e-02,\n",
       "         -3.86253417e-01, -1.72252834e-01,  4.53779161e-01,\n",
       "          2.01763377e-01, -3.16848457e-01,  5.21546841e-01,\n",
       "          4.04769540e-01,  4.67794746e-01, -1.67115211e-01,\n",
       "         -1.74780473e-01,  5.61741531e-01, -2.76946753e-01,\n",
       "         -1.25480309e-01,  2.73259580e-01, -2.52570301e-01,\n",
       "         -3.02254688e-02, -9.57783759e-02],\n",
       "        [-1.34005055e-01, -3.35885346e-01, -1.19650029e-01,\n",
       "          8.62802099e-03, -3.60467583e-01,  3.59227002e-01,\n",
       "          2.51701951e-01, -5.42570837e-02,  3.48674893e-01,\n",
       "          2.11482480e-01, -1.67383403e-01,  3.15980017e-01,\n",
       "          6.85439333e-02,  3.59050184e-01,  3.63424689e-01,\n",
       "         -1.68006942e-02, -1.57667667e-01, -2.02999979e-01,\n",
       "          3.04508507e-01,  3.27662379e-01],\n",
       "        [-1.19944744e-01, -2.43260235e-01,  1.71195969e-01,\n",
       "          2.07324356e-01, -1.77429080e-01, -2.16720626e-01,\n",
       "          1.58797055e-01,  4.02053803e-01, -6.54222593e-02,\n",
       "         -4.05348420e-01,  2.78790385e-01,  2.67087102e-01,\n",
       "         -2.29470968e-01, -2.24382252e-01,  2.90827751e-01,\n",
       "         -3.98367494e-01, -2.67965347e-01,  7.26772845e-02,\n",
       "          2.37095669e-01,  4.66310605e-03],\n",
       "        [-1.05322622e-01, -6.47031516e-02,  2.17290133e-01,\n",
       "          1.79235652e-01, -1.76933870e-01, -5.13719469e-02,\n",
       "         -1.60508938e-02, -3.58581752e-01, -2.22433791e-01,\n",
       "         -3.69490176e-01, -1.37032241e-01, -8.34084451e-02,\n",
       "         -3.06948811e-01,  1.62604034e-01,  2.18201503e-01,\n",
       "          2.97299594e-01,  4.73146215e-02, -1.77808762e-01,\n",
       "         -1.30707070e-01, -4.17764336e-02],\n",
       "        [ 2.46872455e-01,  1.44339725e-01, -4.73758429e-01,\n",
       "         -1.76316246e-01, -1.85878307e-01,  2.50046939e-01,\n",
       "         -2.50586450e-01, -1.41245760e-02,  1.65936336e-01,\n",
       "         -2.36041859e-01, -1.89584091e-01, -1.32367969e-01,\n",
       "         -7.68295377e-02, -3.92904222e-01, -1.56399533e-01,\n",
       "          3.95040810e-01, -7.72150457e-02, -3.95127535e-01,\n",
       "         -4.74116206e-01,  2.99834192e-01],\n",
       "        [-8.16145353e-03,  4.79882583e-02, -4.41054069e-03,\n",
       "         -8.67821574e-02, -1.70263141e-01,  2.28573427e-01,\n",
       "         -5.16677797e-01, -7.18697309e-02,  4.52453732e-01,\n",
       "          1.43070938e-02,  2.24816099e-01,  3.30373257e-01,\n",
       "          1.63659543e-01, -6.57038717e-03, -1.19218275e-01,\n",
       "          1.35292888e-01,  4.59624380e-02, -4.05134559e-02,\n",
       "         -9.44390073e-02, -5.84551506e-02],\n",
       "        [-2.96383291e-01,  1.92063861e-02, -9.03435983e-03,\n",
       "          3.04180443e-01, -7.50603005e-02, -3.04589570e-01,\n",
       "         -2.87279487e-02,  3.75316530e-01, -1.14209108e-01,\n",
       "          2.10502997e-01,  2.26958320e-01, -3.69653314e-01,\n",
       "          4.59408760e-01,  1.60040826e-01, -4.88524675e-01,\n",
       "         -3.06873769e-01, -1.48161240e-02,  3.63774985e-01,\n",
       "         -1.17684333e-02,  9.12554339e-02],\n",
       "        [ 2.26919994e-01, -2.36851558e-01,  1.84088767e-01,\n",
       "         -4.08014536e-01,  1.01640902e-01,  1.43668056e-01,\n",
       "         -3.61772448e-01, -1.74247339e-01, -1.30892275e-02,\n",
       "          1.21602409e-01,  6.46565184e-02, -3.84148747e-01,\n",
       "         -1.94272876e-01, -3.64132017e-01,  2.46276423e-01,\n",
       "          5.20710014e-02, -1.96987301e-01, -3.24771523e-01,\n",
       "         -1.09457962e-01,  6.22733794e-02],\n",
       "        [ 3.33069898e-02, -2.54380077e-01, -4.52436030e-01,\n",
       "          8.30803737e-02, -1.68932572e-01, -2.03121275e-01,\n",
       "          1.12709403e-01,  1.16837256e-01,  8.36380869e-02,\n",
       "         -8.74372870e-02, -5.96007667e-02,  3.69020760e-01,\n",
       "          1.36426851e-01,  2.84031868e-01, -8.29634517e-02,\n",
       "          1.40427961e-04, -1.32601589e-01, -1.24417029e-01,\n",
       "         -1.90796226e-01, -1.65186092e-01],\n",
       "        [-4.30456102e-01,  1.55683709e-02,  1.13424860e-01,\n",
       "          3.76225442e-01,  1.79688036e-01, -1.63191184e-03,\n",
       "          2.01099128e-01,  3.04367989e-01, -4.08818007e-01,\n",
       "          3.55658144e-01, -4.76514369e-01, -1.73817966e-02,\n",
       "          3.14884663e-01, -2.17554599e-01, -1.94844663e-01,\n",
       "         -1.38896182e-01, -3.68612111e-01, -1.03645854e-01,\n",
       "         -1.43562688e-03, -9.45903286e-02],\n",
       "        [ 9.69147533e-02, -2.01513991e-01, -5.41897193e-02,\n",
       "         -3.76108944e-01, -1.49632171e-01, -5.83787896e-02,\n",
       "          1.55743316e-01, -9.07116309e-02,  2.93208331e-01,\n",
       "          2.82999068e-01,  6.46534339e-02, -4.01074141e-01,\n",
       "          2.31903613e-01,  2.76580065e-01,  2.35623360e-01,\n",
       "          2.41975904e-01, -2.33985826e-01,  2.93505937e-01,\n",
       "         -4.73428011e-01,  2.20469106e-02]], dtype=float32),\n",
       " array([-0.00810673, -0.04147763, -0.01629545,  0.05268847,  0.08280648,\n",
       "         0.05896134, -0.03223624,  0.06309631,  0.07229599,  0.07091346,\n",
       "         0.07036285,  0.11346102,  0.09269672,  0.0606228 ,  0.03540925,\n",
       "         0.09976775,  0.01552071,  0.04895248,  0.03572227,  0.02754268],\n",
       "       dtype=float32),\n",
       " array([[-0.4601091 , -0.40067977, -0.4326267 ,  0.35351187, -0.34801647,\n",
       "          0.39414912, -0.40915802, -0.22815223,  0.3201578 ,  0.4149878 ],\n",
       "        [-0.33867326,  0.26842457, -0.3757679 ,  0.03049916, -0.08049108,\n",
       "         -0.26967764, -0.15877002, -0.2701039 , -0.37653878, -0.07523159],\n",
       "        [-0.3339254 ,  0.2239751 ,  0.33387002,  0.33467454, -0.66398036,\n",
       "         -0.25681883, -0.62302536,  0.06308015, -0.2862762 , -0.65916467],\n",
       "        [-0.41712904,  0.7105801 , -0.22398776, -0.07625314, -0.08237595,\n",
       "         -0.20127466, -0.11629917,  0.00756648,  0.05265135, -0.39321744],\n",
       "        [-0.10984688, -0.12747642, -0.2363669 ,  0.3793856 , -0.6051058 ,\n",
       "          0.3362027 , -0.05690446, -0.39413154, -0.3227866 , -0.36773822],\n",
       "        [-0.6072421 , -0.6610838 , -0.45090085,  0.06365021,  0.3375868 ,\n",
       "         -0.640829  , -0.6174386 ,  0.18708766,  0.11159078,  0.21016377],\n",
       "        [ 0.17998512, -0.4553779 , -0.43168443, -0.46180105, -0.6783443 ,\n",
       "         -0.23751993,  0.12285947,  0.05303761,  0.13943556, -0.6899341 ],\n",
       "        [ 0.31342348, -0.4263052 , -0.4200295 , -0.45922178,  0.3426284 ,\n",
       "         -0.571438  ,  0.04346285, -0.25567326, -0.5749559 , -0.34186614],\n",
       "        [-0.4579214 , -0.66670364,  0.3810523 , -0.24561553, -0.27899775,\n",
       "          0.03631698,  0.27973932,  0.46607068,  0.35887212, -0.09229184],\n",
       "        [ 0.41584527, -0.02072068, -0.48105657, -0.19831894, -0.34036413,\n",
       "          0.40831468, -0.4704207 ,  0.4658823 , -0.50027853, -0.26176995],\n",
       "        [-0.18611896,  0.07906006,  0.24203801,  0.2048501 , -0.67779416,\n",
       "         -0.005703  , -0.64914995,  0.33345497, -0.3004497 ,  0.1885059 ],\n",
       "        [-0.51016366,  0.2900834 , -0.16596912, -0.19254221,  0.44621396,\n",
       "         -0.45140246,  0.15912458,  0.35932547, -0.21128175,  0.44865885],\n",
       "        [ 0.3358796 , -0.6044177 , -0.1822821 ,  0.11456624,  0.33242142,\n",
       "          0.26905003,  0.19686987, -0.42337608, -0.09799045, -0.2538912 ],\n",
       "        [-0.63321906,  0.29394668, -0.5657879 , -0.4505572 , -0.5851455 ,\n",
       "          0.267038  ,  0.09722859,  0.1320718 ,  0.03611831, -0.5168103 ],\n",
       "        [-0.46372995,  0.37236598,  0.34652928, -0.20906806, -0.49302393,\n",
       "         -0.21742317,  0.11900586, -0.51573104,  0.35011607, -0.66665393],\n",
       "        [ 0.3591443 , -0.5728121 ,  0.258739  , -0.22656728, -0.2502387 ,\n",
       "          0.16221158, -0.25064966, -0.3636308 ,  0.30138502,  0.24449876],\n",
       "        [-0.26943278, -0.30978543, -0.2975565 ,  0.17532803, -0.20676371,\n",
       "         -0.00310964,  0.6427865 , -0.25299302, -0.17416455, -0.08516528],\n",
       "        [ 0.2022801 , -0.23470876,  0.26252592, -0.11567913, -0.26085642,\n",
       "          0.02001346,  0.15952075, -0.6693974 , -0.3671819 , -0.48491105],\n",
       "        [-0.5929128 ,  0.65404564, -0.1035338 ,  0.01911646,  0.06362584,\n",
       "         -0.24505481,  0.53206825, -0.43864086,  0.08026502, -0.00213496],\n",
       "        [-0.6348925 , -0.01233152, -0.6039124 ,  0.26143533,  0.18852502,\n",
       "         -0.28413257, -0.4084855 , -0.3701158 ,  0.14924863,  0.1334015 ]],\n",
       "       dtype=float32),\n",
       " array([-0.04096454, -0.0543309 ,  0.23014323, -0.12820704,  0.2455791 ,\n",
       "        -0.08446677, -0.21877457, -0.21913941, -0.23991293,  0.28797892],\n",
       "       dtype=float32)]"
      ]
     },
     "execution_count": 122,
     "metadata": {},
     "output_type": "execute_result"
    }
   ],
   "source": [
    "model.get_weights()"
   ]
  },
  {
   "cell_type": "code",
   "execution_count": null,
   "metadata": {},
   "outputs": [],
   "source": []
  }
 ],
 "metadata": {
  "kernelspec": {
   "display_name": "Python 3",
   "language": "python",
   "name": "python3"
  },
  "language_info": {
   "codemirror_mode": {
    "name": "ipython",
    "version": 3
   },
   "file_extension": ".py",
   "mimetype": "text/x-python",
   "name": "python",
   "nbconvert_exporter": "python",
   "pygments_lexer": "ipython3",
   "version": "3.8.5"
  }
 },
 "nbformat": 4,
 "nbformat_minor": 4
}
