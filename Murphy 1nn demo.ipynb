{
 "cells": [
  {
   "cell_type": "code",
   "execution_count": 1,
   "metadata": {},
   "outputs": [],
   "source": [
    "from sklearn.neighbors import KNeighborsClassifier\n",
    "from sklearn.metrics import accuracy_score\n",
    "import tensorflow as tf\n",
    "mnist = tf.keras.datasets.mnist\n",
    "(x_train, y_train), (x_test, y_test) = mnist.load_data()\n",
    "import pandas as pd"
   ]
  },
  {
   "cell_type": "code",
   "execution_count": 2,
   "metadata": {},
   "outputs": [
    {
     "name": "stdout",
     "output_type": "stream",
     "text": [
      "(10000,) (60000,) (10000, 28, 28) (60000, 28, 28)\n"
     ]
    }
   ],
   "source": [
    "print(y_test.shape,y_train.shape,x_test.shape,x_train.shape)"
   ]
  },
  {
   "cell_type": "markdown",
   "metadata": {},
   "source": [
    "Flatten the training and test x dfs"
   ]
  },
  {
   "cell_type": "code",
   "execution_count": 3,
   "metadata": {},
   "outputs": [
    {
     "data": {
      "text/plain": [
       "(10000, 28, 28)"
      ]
     },
     "execution_count": 3,
     "metadata": {},
     "output_type": "execute_result"
    }
   ],
   "source": [
    "x_test.shape"
   ]
  },
  {
   "cell_type": "code",
   "execution_count": 4,
   "metadata": {},
   "outputs": [],
   "source": [
    "def flatten_x(X):\n",
    "    x_flat = X.reshape(X.shape[0],-1)\n",
    "    return x_flat\n",
    "\n",
    "x_train_flat = flatten_x(x_train)\n",
    "x_test_flat = flatten_x(x_test)"
   ]
  },
  {
   "cell_type": "code",
   "execution_count": 5,
   "metadata": {},
   "outputs": [
    {
     "data": {
      "image/png": "[encoded data removed]",
      "text/plain": [
       "<Figure size 432x288 with 1 Axes>"
      ]
     },
     "metadata": {
      "needs_background": "light"
     },
     "output_type": "display_data"
    },
    {
     "data": {
      "image/png": "[encoded data removed]",
      "text/plain": [
       "<Figure size 432x288 with 1 Axes>"
      ]
     },
     "metadata": {
      "needs_background": "light"
     },
     "output_type": "display_data"
    },
    {
     "data": {
      "image/png": "[encoded data removed]",
      "text/plain": [
       "<Figure size 432x288 with 1 Axes>"
      ]
     },
     "metadata": {
      "needs_background": "light"
     },
     "output_type": "display_data"
    }
   ],
   "source": [
    "from matplotlib import pyplot\n",
    "for i in range(3):  \n",
    "    pyplot.subplot(330 + 1 + i)\n",
    "    pyplot.imshow(x_train[i], cmap=pyplot.get_cmap('gray'))\n",
    "    pyplot.show()"
   ]
  },
  {
   "cell_type": "code",
   "execution_count": 105,
   "metadata": {},
   "outputs": [],
   "source": [
    "def create_samples(y_train):\n",
    "    y_df = pd.Series(y_train).to_frame().rename(columns = {0:'value'})\n",
    "    sample_dict1,sample_dict2,sample_dict3,sample_dict4 = {}, {}, {}, {}\n",
    "    list_of_nos = np.linspace(0,9,10)\n",
    "    for i in range(10):\n",
    "        sample_dict1[i] = y_df[y_df['value'] == i].sample(50).index  \n",
    "        sample_dict2[i] = y_df[y_df['value'] == i].sample(100).index  \n",
    "        sample_dict3[i] = y_df[y_df['value'] == i].sample(200).index\n",
    "    return sample_dict1, sample_dict2, sample_dict3\n",
    "sample_dict1, sample_dict2, sample_dict3 = create_samples(y_train)"
   ]
  },
  {
   "cell_type": "code",
   "execution_count": 264,
   "metadata": {},
   "outputs": [],
   "source": [
    "def create_x_dict(x_train,sample_dict1):\n",
    "    x_dict = {}\n",
    "    for i in range(10):\n",
    "        x_dict[i] = x_train[sample_dict1[i],:]\n",
    "    return x_dict"
   ]
  },
  {
   "cell_type": "code",
   "execution_count": 301,
   "metadata": {},
   "outputs": [],
   "source": [
    "x_sample = create_x_dict(x_train,sample_dict2)"
   ]
  },
  {
   "cell_type": "code",
   "execution_count": 299,
   "metadata": {},
   "outputs": [],
   "source": [
    "def compare_same_v_diff(x):\n",
    "    euc_dist_same = []\n",
    "    for number in range(10):\n",
    "        for i in x[number]:\n",
    "            for j in x[number]:\n",
    "                comparison = i == j\n",
    "                if comparison.all() == False:\n",
    "                    euc_dis = np.linalg.norm(i-j)\n",
    "                    euc_dist_same.append(euc_dis)\n",
    "\n",
    "    euc_dist_diff = []\n",
    "    for keys1,tables in x.items(): #iterate over the tables\n",
    "        for rows in x[keys1]: #take each individual example from one of the dicts\n",
    "            for keys2,tables2 in x.items(): #iterate over the dict again\n",
    "                if keys1 != keys2: #ignore all the ones where you're looking at two of the same\n",
    "                    for rows2 in x[keys2]: \n",
    "                        distance = np.linalg.norm(rows - rows2) #calculate distance\n",
    "                        euc_dist_diff.append(distance) #add to the list\n",
    "\n",
    "    return pd.DataFrame({'same':pd.Series(euc_dist_same).describe(),\n",
    "                 'diff':pd.Series(euc_dist_diff).describe()}\n",
    "                       ).astype('int32'), np.percentile(euc_dist_same,1), np.percentile(euc_dist_diff,1)"
   ]
  },
  {
   "cell_type": "code",
   "execution_count": 302,
   "metadata": {},
   "outputs": [
    {
     "name": "stdout",
     "output_type": "stream",
     "text": [
      "        same    diff\n",
      "count  99000  900000\n",
      "mean    2253    2389\n",
      "std      352     322\n",
      "min      698    1073\n",
      "25%     2033    2158\n",
      "50%     2255    2373\n",
      "75%     2483    2598\n",
      "max     3621    3647\n",
      "1st percentile for same is 1368.9522891484967 \n",
      "\n",
      "1st percentile for different is 1726.2906331196064\n"
     ]
    }
   ],
   "source": [
    "dafra, same5, diff5 = compare_same_v_diff(x_sample)\n",
    "print(dafra)\n",
    "print(f\"1st percentile for same is {same5} \\n\\n1st percentile for different is {diff5}\")"
   ]
  },
  {
   "cell_type": "markdown",
   "metadata": {},
   "source": [
    "It looks like on average there's not too much difference, but with the 'same' ones there are some very very low values, although these are very rare. less than the top 1% is better than the best different value\n",
    "\n",
    "Let's see what happens if we re-arrange the numbers to remove any whitespace at the top"
   ]
  },
  {
   "cell_type": "code",
   "execution_count": null,
   "metadata": {},
   "outputs": [],
   "source": [
    "x_train_copy = x_train.copy()"
   ]
  },
  {
   "cell_type": "code",
   "execution_count": 226,
   "metadata": {},
   "outputs": [],
   "source": [
    "def remove_white_space(datapoint):\n",
    "    fst_row = 0\n",
    "    count=0\n",
    "    for row in datapoint:\n",
    "        if np.sum(row) > 0:\n",
    "            fst_row = count\n",
    "            break\n",
    "        else:\n",
    "            count+=1\n",
    "    datapoint = datapoint[fst_row:]\n",
    "    datapoint = np.append(datapoint,np.zeros((fst_row,28)),axis=0)\n",
    "    return datapoint"
   ]
  },
  {
   "cell_type": "code",
   "execution_count": null,
   "metadata": {},
   "outputs": [],
   "source": [
    "count = 0 \n",
    "for i in range(len(x_train_copy) + 1):\n",
    "    x_train_copy[i] = remove_white_space(x_train_copy[i])\n",
    "    count+=1"
   ]
  },
  {
   "cell_type": "code",
   "execution_count": 303,
   "metadata": {},
   "outputs": [],
   "source": [
    "x_sample_copy = create_x_dict(x_train_copy,sample_dict2)"
   ]
  },
  {
   "cell_type": "code",
   "execution_count": 304,
   "metadata": {},
   "outputs": [
    {
     "name": "stdout",
     "output_type": "stream",
     "text": [
      "        same    diff\n",
      "count  99000  900000\n",
      "mean    2245    2372\n",
      "std      355     324\n",
      "min      650    1035\n",
      "25%     2022    2142\n",
      "50%     2245    2354\n",
      "75%     2476    2580\n",
      "max     3618    3664\n",
      "1st percentile for same is 1358.7113968751605 \n",
      "\n",
      "1st percentile for different is 1701.2029802461818\n"
     ]
    }
   ],
   "source": [
    "dafra_c, same5_c, diff5_c = compare_same_v_diff(x_sample_copy)\n",
    "print(dafra_c)\n",
    "print(f\"1st percentile for same is {same5_c} \\n\\n1st percentile for different is {diff5_c}\")"
   ]
  },
  {
   "cell_type": "markdown",
   "metadata": {},
   "source": [
    "# not a lot of difference. which suggests a high precision model is needed\n",
    "\n",
    "We can also say anything below 1000 is probably 'good enough' to stop the search at that point\n",
    "\n",
    "maybe we run some form of K nearest neighbors and once we get a score below 1300, we then search the remaining values for that y value and see if we get a really good score"
   ]
  },
  {
   "cell_type": "code",
   "execution_count": 40,
   "metadata": {},
   "outputs": [
    {
     "name": "stdout",
     "output_type": "stream",
     "text": [
      "2370.7600047242236\n",
      "13252\n",
      "4\n",
      "4\n"
     ]
    }
   ],
   "source": [
    "\n",
    "#my_own_knn\n",
    "test_row = x_test_flat[4]\n",
    "answer = 0\n",
    "counter = 0\n",
    "best = int()\n",
    "for row in x_train_flat:\n",
    "    distance = np.linalg.norm(test_row-row)\n",
    "    if (best == 0) or (distance < best):\n",
    "        best = distance\n",
    "        answer = counter\n",
    "    counter+=1\n",
    "print(distance)\n",
    "print(answer)\n",
    "print(y_train[answer])\n",
    "print(y_test[4])"
   ]
  },
  {
   "cell_type": "code",
   "execution_count": 8,
   "metadata": {},
   "outputs": [],
   "source": [
    "def create_test_sample(X,Y,sample=5000):\n",
    "    x_sample = X[0:sample,:]\n",
    "    y_sample = Y[:sample]\n",
    "    return x_sample, y_sample\n",
    "x_sample, y_sample = create_test_sample(x_test_flat,y_test)"
   ]
  },
  {
   "cell_type": "code",
   "execution_count": 9,
   "metadata": {},
   "outputs": [
    {
     "ename": "NameError",
     "evalue": "name 'time' is not defined",
     "output_type": "error",
     "traceback": [
      "\u001b[0;31m---------------------------------------------------------------------------\u001b[0m",
      "\u001b[0;31mNameError\u001b[0m                                 Traceback (most recent call last)",
      "\u001b[0;32m<ipython-input-9-619418f38b8a>\u001b[0m in \u001b[0;36m<module>\u001b[0;34m\u001b[0m\n\u001b[0;32m----> 1\u001b[0;31m \u001b[0mstart_time\u001b[0m \u001b[0;34m=\u001b[0m \u001b[0mtime\u001b[0m\u001b[0;34m.\u001b[0m\u001b[0mtime\u001b[0m\u001b[0;34m(\u001b[0m\u001b[0;34m)\u001b[0m\u001b[0;34m\u001b[0m\u001b[0;34m\u001b[0m\u001b[0m\n\u001b[0m\u001b[1;32m      2\u001b[0m \u001b[0;34m\u001b[0m\u001b[0m\n\u001b[1;32m      3\u001b[0m \u001b[0;32mdef\u001b[0m \u001b[0msample_misclass\u001b[0m\u001b[0;34m(\u001b[0m\u001b[0mx_sample\u001b[0m\u001b[0;34m,\u001b[0m \u001b[0my_sammple\u001b[0m\u001b[0;34m)\u001b[0m\u001b[0;34m:\u001b[0m\u001b[0;34m\u001b[0m\u001b[0;34m\u001b[0m\u001b[0m\n\u001b[1;32m      4\u001b[0m     \u001b[0mtest_predictions\u001b[0m \u001b[0;34m=\u001b[0m \u001b[0mone_nn\u001b[0m\u001b[0;34m.\u001b[0m\u001b[0mpredict\u001b[0m\u001b[0;34m(\u001b[0m\u001b[0mx_sample\u001b[0m\u001b[0;34m)\u001b[0m\u001b[0;34m\u001b[0m\u001b[0;34m\u001b[0m\u001b[0m\n\u001b[1;32m      5\u001b[0m     \u001b[0mmis_classifications\u001b[0m \u001b[0;34m=\u001b[0m \u001b[0;36m1\u001b[0m\u001b[0;34m-\u001b[0m\u001b[0maccuracy_score\u001b[0m\u001b[0;34m(\u001b[0m\u001b[0my_sample\u001b[0m\u001b[0;34m,\u001b[0m\u001b[0mtest_predictions\u001b[0m\u001b[0;34m)\u001b[0m\u001b[0;34m\u001b[0m\u001b[0;34m\u001b[0m\u001b[0m\n",
      "\u001b[0;31mNameError\u001b[0m: name 'time' is not defined"
     ]
    }
   ],
   "source": [
    "\n",
    "def sample_misclass(x_sample, y_sammple):\n",
    "    test_predictions = one_nn.predict(x_sample)\n",
    "    mis_classifications = 1-accuracy_score(y_sample,test_predictions)\n",
    "    print(mis_classifications)\n",
    "\n",
    "sample_misclass(x_sample,y_sample)\n",
    "print(f\"time took {time.time() - start_time} second\")"
   ]
  },
  {
   "cell_type": "code",
   "execution_count": 10,
   "metadata": {},
   "outputs": [],
   "source": [
    "import time"
   ]
  },
  {
   "cell_type": "code",
   "execution_count": 11,
   "metadata": {},
   "outputs": [
    {
     "name": "stdout",
     "output_type": "stream",
     "text": [
      "k = 1\n",
      "cv_scores mean:0.9194000000000001\n",
      "k = 3\n",
      "cv_scores mean:0.9166000000000001\n",
      "k = 5\n",
      "cv_scores mean:0.9132\n",
      "k = 10\n",
      "cv_scores mean:0.906\n"
     ]
    }
   ],
   "source": [
    "from sklearn.model_selection import cross_val_score\n",
    "import numpy as np\n",
    "start_time = time.time()\n",
    "#create a new KNN model\n",
    "ks = [1,3,5,10]\n",
    "for k in ks:\n",
    "    knn_cv = KNeighborsClassifier(n_neighbors=k)\n",
    "    #train model with cv of 5 \n",
    "    cv_scores = cross_val_score(knn_cv, x_sample, y_sample, cv=5)\n",
    "    #print each cv score (accuracy) and average them\n",
    "    print(f\"k = {k}\")\n",
    "    print(f\"cv_scores mean:{np.mean(cv_scores)}\")\n",
    "    "
   ]
  },
  {
   "cell_type": "code",
   "execution_count": null,
   "metadata": {},
   "outputs": [],
   "source": [
    "pip install --user annoy"
   ]
  },
  {
   "cell_type": "code",
   "execution_count": 12,
   "metadata": {},
   "outputs": [],
   "source": [
    "from annoy import AnnoyIndex\n"
   ]
  },
  {
   "cell_type": "code",
   "execution_count": 15,
   "metadata": {},
   "outputs": [
    {
     "ename": "TypeError",
     "evalue": "descriptor 'build' of 'annoy.Annoy' object needs an argument",
     "output_type": "error",
     "traceback": [
      "\u001b[0;31m---------------------------------------------------------------------------\u001b[0m",
      "\u001b[0;31mTypeError\u001b[0m                                 Traceback (most recent call last)",
      "\u001b[0;32m<ipython-input-15-791ffbc28b9b>\u001b[0m in \u001b[0;36m<module>\u001b[0;34m\u001b[0m\n\u001b[0;32m----> 1\u001b[0;31m \u001b[0mAnnoyIndex\u001b[0m\u001b[0;34m.\u001b[0m\u001b[0mbuild\u001b[0m\u001b[0;34m(\u001b[0m\u001b[0mn_trees\u001b[0m \u001b[0;34m=\u001b[0m \u001b[0;36m10\u001b[0m\u001b[0;34m,\u001b[0m\u001b[0mn_jobs\u001b[0m\u001b[0;34m=\u001b[0m\u001b[0;34m-\u001b[0m\u001b[0;36m1\u001b[0m\u001b[0;34m)\u001b[0m\u001b[0;34m\u001b[0m\u001b[0;34m\u001b[0m\u001b[0m\n\u001b[0m",
      "\u001b[0;31mTypeError\u001b[0m: descriptor 'build' of 'annoy.Annoy' object needs an argument"
     ]
    }
   ],
   "source": [
    "AnnoyIndex.build(n_trees = 10,n_jobs=-1)"
   ]
  },
  {
   "cell_type": "code",
   "execution_count": null,
   "metadata": {},
   "outputs": [],
   "source": []
  }
 ],
 "metadata": {
  "kernelspec": {
   "display_name": "Python 3",
   "language": "python",
   "name": "python3"
  },
  "language_info": {
   "codemirror_mode": {
    "name": "ipython",
    "version": 3
   },
   "file_extension": ".py",
   "mimetype": "text/x-python",
   "name": "python",
   "nbconvert_exporter": "python",
   "pygments_lexer": "ipython3",
   "version": "3.8.5"
  }
 },
 "nbformat": 4,
 "nbformat_minor": 4
}
